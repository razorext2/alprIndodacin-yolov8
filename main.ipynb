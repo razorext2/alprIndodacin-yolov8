{
 "cells": [
  {
   "cell_type": "code",
   "execution_count": 1,
   "id": "d47df3ff-022a-4f5c-805c-db8fe8ae98d6",
   "metadata": {},
   "outputs": [],
   "source": [
    "import ast\n",
    "import cv2 as cv\n",
    "import easyocr\n",
    "from glob import glob\n",
    "import numpy as np\n",
    "import pandas as pd\n",
    "import string\n",
    "from ultralytics import YOLO"
   ]
  },
  {
   "cell_type": "code",
   "execution_count": 2,
   "id": "4f7cbbaa-8586-4ae0-9302-1bb8643f0c59",
   "metadata": {},
   "outputs": [
    {
     "name": "stderr",
     "output_type": "stream",
     "text": [
      "C:\\Users\\Abdi\\AppData\\Roaming\\Python\\Python311\\site-packages\\ultralytics\\nn\\tasks.py:560: FutureWarning: You are using `torch.load` with `weights_only=False` (the current default value), which uses the default pickle module implicitly. It is possible to construct malicious pickle data which will execute arbitrary code during unpickling (See https://github.com/pytorch/pytorch/blob/main/SECURITY.md#untrusted-models for more details). In a future release, the default value for `weights_only` will be flipped to `True`. This limits the functions that could be executed during unpickling. Arbitrary objects will no longer be allowed to be loaded via this mode unless they are explicitly allowlisted by the user via `torch.serialization.add_safe_globals`. We recommend you start setting `weights_only=True` for any use case where you don't have full control of the loaded file. Please open an issue on GitHub for any issues related to this experimental feature.\n",
      "  return torch.load(file, map_location='cpu'), file  # load\n"
     ]
    }
   ],
   "source": [
    "# regular pre-trained yolov8 model for car recognition\n",
    "# coco_model = YOLO('yolov8n.pt')\n",
    "coco_model = YOLO('yolov8s.pt')\n",
    "# yolov8 model trained to detect number plates\n",
    "np_model = YOLO('best.pt')"
   ]
  },
  {
   "cell_type": "code",
   "execution_count": 3,
   "id": "22fdecce-8fc7-413f-aaed-232f3c6a0419",
   "metadata": {},
   "outputs": [
    {
     "name": "stdout",
     "output_type": "stream",
     "text": [
      "['inputs\\\\1.mp4', 'inputs\\\\2.mp4']\n"
     ]
    }
   ],
   "source": [
    "# read in test video paths\n",
    "videos = glob('inputs/*.mp4')\n",
    "print(videos)"
   ]
  },
  {
   "cell_type": "code",
   "execution_count": null,
   "id": "7e52bd00-49f9-46ab-84a4-3f8c2832ee78",
   "metadata": {},
   "outputs": [],
   "source": []
  }
 ],
 "metadata": {
  "kernelspec": {
   "display_name": "Python 3 (ipykernel)",
   "language": "python",
   "name": "python3"
  },
  "language_info": {
   "codemirror_mode": {
    "name": "ipython",
    "version": 3
   },
   "file_extension": ".py",
   "mimetype": "text/x-python",
   "name": "python",
   "nbconvert_exporter": "python",
   "pygments_lexer": "ipython3",
   "version": "3.11.7"
  }
 },
 "nbformat": 4,
 "nbformat_minor": 5
}
